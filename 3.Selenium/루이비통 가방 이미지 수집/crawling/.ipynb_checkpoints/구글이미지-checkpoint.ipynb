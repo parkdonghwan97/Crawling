{
 "cells": [
  {
   "cell_type": "code",
   "execution_count": null,
   "id": "0ec13782",
   "metadata": {},
   "outputs": [],
   "source": []
  },
  {
   "cell_type": "code",
   "execution_count": 1,
   "id": "d6f2b2f9",
   "metadata": {
    "ExecuteTime": {
     "end_time": "2022-04-04T09:13:01.886606Z",
     "start_time": "2022-04-04T09:13:01.398598Z"
    }
   },
   "outputs": [],
   "source": [
    "import pandas as pd\n",
    "from selenium import webdriver\n",
    "from selenium.webdriver.common.keys import Keys\n",
    "import time\n",
    "import urllib.request\n",
    "import os"
   ]
  },
  {
   "cell_type": "code",
   "execution_count": 2,
   "id": "0e22ffe7",
   "metadata": {
    "ExecuteTime": {
     "end_time": "2022-04-04T09:13:01.934597Z",
     "start_time": "2022-04-04T09:13:01.888599Z"
    }
   },
   "outputs": [
    {
     "data": {
      "text/html": [
       "<div>\n",
       "<style scoped>\n",
       "    .dataframe tbody tr th:only-of-type {\n",
       "        vertical-align: middle;\n",
       "    }\n",
       "\n",
       "    .dataframe tbody tr th {\n",
       "        vertical-align: top;\n",
       "    }\n",
       "\n",
       "    .dataframe thead th {\n",
       "        text-align: right;\n",
       "    }\n",
       "</style>\n",
       "<table border=\"1\" class=\"dataframe\">\n",
       "  <thead>\n",
       "    <tr style=\"text-align: right;\">\n",
       "      <th></th>\n",
       "      <th>model_id</th>\n",
       "      <th>name</th>\n",
       "    </tr>\n",
       "  </thead>\n",
       "  <tbody>\n",
       "    <tr>\n",
       "      <th>0</th>\n",
       "      <td>M40718</td>\n",
       "      <td>박형준</td>\n",
       "    </tr>\n",
       "    <tr>\n",
       "      <th>1</th>\n",
       "      <td>M40717</td>\n",
       "      <td>박형준</td>\n",
       "    </tr>\n",
       "    <tr>\n",
       "      <th>2</th>\n",
       "      <td>N41275</td>\n",
       "      <td>박형준</td>\n",
       "    </tr>\n",
       "    <tr>\n",
       "      <th>3</th>\n",
       "      <td>N41277</td>\n",
       "      <td>박형준</td>\n",
       "    </tr>\n",
       "    <tr>\n",
       "      <th>4</th>\n",
       "      <td>N41129</td>\n",
       "      <td>박형준</td>\n",
       "    </tr>\n",
       "    <tr>\n",
       "      <th>...</th>\n",
       "      <td>...</td>\n",
       "      <td>...</td>\n",
       "    </tr>\n",
       "    <tr>\n",
       "      <th>840</th>\n",
       "      <td>M44442</td>\n",
       "      <td>박동환</td>\n",
       "    </tr>\n",
       "    <tr>\n",
       "      <th>841</th>\n",
       "      <td>M43559</td>\n",
       "      <td>박동환</td>\n",
       "    </tr>\n",
       "    <tr>\n",
       "      <th>842</th>\n",
       "      <td>N41434</td>\n",
       "      <td>박동환</td>\n",
       "    </tr>\n",
       "    <tr>\n",
       "      <th>843</th>\n",
       "      <td>N51150</td>\n",
       "      <td>박동환</td>\n",
       "    </tr>\n",
       "    <tr>\n",
       "      <th>844</th>\n",
       "      <td>M91706</td>\n",
       "      <td>박동환</td>\n",
       "    </tr>\n",
       "  </tbody>\n",
       "</table>\n",
       "<p>845 rows × 2 columns</p>\n",
       "</div>"
      ],
      "text/plain": [
       "    model_id name\n",
       "0     M40718  박형준\n",
       "1     M40717  박형준\n",
       "2     N41275  박형준\n",
       "3     N41277  박형준\n",
       "4     N41129  박형준\n",
       "..       ...  ...\n",
       "840   M44442  박동환\n",
       "841   M43559  박동환\n",
       "842   N41434  박동환\n",
       "843   N51150  박동환\n",
       "844   M91706  박동환\n",
       "\n",
       "[845 rows x 2 columns]"
      ]
     },
     "execution_count": 2,
     "metadata": {},
     "output_type": "execute_result"
    }
   ],
   "source": [
    "x =pd.read_csv('unq_model_name_list.csv')\n",
    "x"
   ]
  },
  {
   "cell_type": "code",
   "execution_count": 3,
   "id": "5ca88b26",
   "metadata": {
    "ExecuteTime": {
     "end_time": "2022-04-04T09:13:02.469136Z",
     "start_time": "2022-04-04T09:13:02.458189Z"
    }
   },
   "outputs": [],
   "source": [
    "X = x[x['name']=='박동환']['model_id'].tolist()"
   ]
  },
  {
   "cell_type": "code",
   "execution_count": null,
   "id": "1d6b0aa3",
   "metadata": {
    "ExecuteTime": {
     "start_time": "2022-04-04T09:13:07.156Z"
    }
   },
   "outputs": [],
   "source": [
    "def createDirectory(directory):\n",
    "    try:\n",
    "        if not os.path.exists(directory):\n",
    "            os.makedirs(directory)\n",
    "    except OSError:\n",
    "        print(\"Error: Failed to create the directory.\")\n",
    "\n",
    "def crawling_img(name):\n",
    "    driver = webdriver.Chrome('C:/endand/chromedriver.exe')\n",
    "    driver.get(\"https://www.google.co.kr/imghp?hl=ko&ogbl\")\n",
    "    elem = driver.find_element_by_name(\"q\")\n",
    "    elem.send_keys(name)\n",
    "    elem.send_keys(Keys.RETURN)\n",
    "    SCROLL_PAUSE_TIME = 1\n",
    "    # Get scroll height\n",
    "    last_height = driver.execute_script(\"return document.body.scrollHeight\")  # 브라우저의 높이를 자바스크립트로 찾음\n",
    "    while True:\n",
    "        # Scroll down to bottom\n",
    "        driver.execute_script(\"window.scrollTo(0, document.body.scrollHeight);\")  # 브라우저 끝까지 스크롤을 내림\n",
    "        # Wait to load page\n",
    "        time.sleep(SCROLL_PAUSE_TIME)\n",
    "        # Calculate new scroll height and compare with last scroll height\n",
    "        new_height = driver.execute_script(\"return document.body.scrollHeight\")\n",
    "        if new_height == last_height:\n",
    "            try:\n",
    "                driver.find_element_by_css_selector(\".mye4qd\").click()\n",
    "            except:\n",
    "                break\n",
    "        last_height = new_height\n",
    "\n",
    "    imgs = driver.find_elements_by_css_selector(\".rg_i.Q4LuWd\")\n",
    "    dir = \".\\model\" + \"\\\\\" + name\n",
    "\n",
    "    createDirectory(dir) #폴더 생성\n",
    "    count = 1\n",
    "    for img in imgs:\n",
    "        try:\n",
    "            img.click()\n",
    "            time.sleep(2)\n",
    "            imgUrl = driver.find_element_by_xpath(\n",
    "                '//*[@id=\"Sva75c\"]/div/div/div[3]/div[2]/c-wiz/div/div[1]/div[1]/div[2]/div[1]/a/img').get_attribute(\n",
    "                \"src\")\n",
    "            path = \"C:/endand/crawling/model/\" + name + \"/\"\n",
    "            urllib.request.urlretrieve(imgUrl, path +  name + '_' + str(count) + \".jpg\")# \n",
    "            count = count + 1\n",
    "            if count >= 300:\n",
    "                break\n",
    "        except:\n",
    "            pass\n",
    "    driver.close()\n",
    "# idols = [\"M40718\"]\n",
    "for i in range (len(X)):\n",
    "    crawling_img(X[i])"
   ]
  }
 ],
 "metadata": {
  "kernelspec": {
   "display_name": "Python 3 (ipykernel)",
   "language": "python",
   "name": "python3"
  },
  "language_info": {
   "codemirror_mode": {
    "name": "ipython",
    "version": 3
   },
   "file_extension": ".py",
   "mimetype": "text/x-python",
   "name": "python",
   "nbconvert_exporter": "python",
   "pygments_lexer": "ipython3",
   "version": "3.8.8"
  },
  "toc": {
   "base_numbering": 1,
   "nav_menu": {},
   "number_sections": true,
   "sideBar": true,
   "skip_h1_title": false,
   "title_cell": "Table of Contents",
   "title_sidebar": "Contents",
   "toc_cell": false,
   "toc_position": {},
   "toc_section_display": true,
   "toc_window_display": false
  }
 },
 "nbformat": 4,
 "nbformat_minor": 5
}
