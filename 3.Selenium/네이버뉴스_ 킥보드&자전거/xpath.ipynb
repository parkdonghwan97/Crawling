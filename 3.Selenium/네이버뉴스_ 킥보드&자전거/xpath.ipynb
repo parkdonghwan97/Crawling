{
 "cells": [
  {
   "cell_type": "code",
   "execution_count": 5,
   "id": "9d555678",
   "metadata": {
    "ExecuteTime": {
     "end_time": "2022-04-03T07:07:15.961685Z",
     "start_time": "2022-04-03T07:07:15.951640Z"
    }
   },
   "outputs": [],
   "source": [
    "import time\n",
    "import selenium.webdriver as webdriver\n",
    "\n",
    "driver = webdriver.Chrome('C://chromedriver/chromedriver.exe')\n",
    "url_start = 'https://news.naver.com'\n",
    "keywords = ['킥보드', '자전거']\n",
    "\n",
    "def input_keyword(keyword):\n",
    "    driver.switch_to.window(driver.window_handles[0])\n",
    "    driver.get(url_start)\n",
    "\n",
    "    driver.implicitly_wait(10)\n",
    "    driver.find_element_by_xpath('//input[@class=\"text_index\"]').send_keys(keyword)\n",
    "    driver.implicitly_wait(10)\n",
    "    driver.find_element_by_xpath('//button[@type=\"submit\"]').click()\n",
    "    driver.switch_to.window(driver.window_handles[1])                  # 기존의 탭은 1번임. 2번째 탭을 생성\n",
    "    driver.find_elements_by_xpath('//a[@role=\"option\"]')[1].click()    # 새롭게 생성된 2번째 탭 클릭\n",
    "    driver.implicitly_wait(10)\n",
    "    return driver\n",
    "\n",
    "def make_file(keyword):\n",
    "    output_file_name = 'naver_news_' + keyword + \"_\" + time.strftime(\"%y%m%d_%H%M%S\") + '.txt'\n",
    "    output_file = open(output_file_name, \"w\", encoding=\"utf-8\")\n",
    "    output_file.write(\"{}\\t{}\\t{}\\t{}\\n\".format('페이지', '키워드', '제목', 'URL'))\n",
    "    output_file.close()\n",
    "    return output_file_name\n",
    "\n",
    "'''\n",
    "Mozilla/5.0 (Windows NT 10.0; Win64; x64) AppleWebKit/537.36 (KHTML, like Gecko) Chrome/96.0.4664.45 Safari/537.36  - 크롬\n",
    "'''\n",
    "def write_news(i, keyword, news_title_clean, news_url, output_file_name):\n",
    "    print([i, keyword, news_title_clean, news_url])\n",
    "    output_file = open(output_file_name, \"a\", encoding='utf-8')\n",
    "    output_file.write(\"{}\\t{}\\t{}\\t{}\\n\".format(i, keyword, news_title_clean, news_url))\n",
    "    output_file.close()\n",
    "    return\n",
    "\n",
    "def crawl_news_selenium(driver, keyword, i, output_file_name):\n",
    "    bodies = driver.find_elements_by_xpath('//ul[@class=\"list_news\"]/li')\n",
    "    for body in bodies:\n",
    "        news_title_elm = body.find_elements_by_xpath('.//a[@class=\"news_tit\"]')[0]\n",
    "        news_title = news_title_elm.get_attribute('title')\n",
    "        try:\n",
    "            news_url_elm = body.find_elements_by_xpath('.//a[@class=\"info\"]')[0]\n",
    "            news_url = news_url_elm.get_attribute('href')\n",
    "\n",
    "        except:\n",
    "            news_url = ''\n",
    "        news_title_clean = news_title.replace(\"\\n\", \"\").replace(\"\\t\",\"\").replace(\"\\r\",\"\").strip()\n",
    "        write_news(i, keyword, news_title_clean, news_url, output_file_name)\n",
    "        page_nav = driver.find_element_by_xpath('//div[@class=\"sc_page_inner\"]')\n",
    "        next_page = page_nav.find_element_by_link_text(str(int(i) + 1))\n",
    "        next_page.click()\n",
    "        driver.implicitly_wait(10)\n",
    "        return\n",
    "\n",
    "def fmain():\n",
    "    for keyword in keywords:\n",
    "        output_file_name = make_file(keyword)\n",
    "        driver = input_keyword(keyword)\n",
    "\n",
    "        for i in range(1,3):\n",
    "            print(i)\n",
    "            crawl_news_selenium(driver,keyword,i,output_file_name)\n",
    "        driver.close()\n",
    "fmain()"
   ]
  }
 ],
 "metadata": {
  "kernelspec": {
   "display_name": "Python 3 (ipykernel)",
   "language": "python",
   "name": "python3"
  },
  "language_info": {
   "codemirror_mode": {
    "name": "ipython",
    "version": 3
   },
   "file_extension": ".py",
   "mimetype": "text/x-python",
   "name": "python",
   "nbconvert_exporter": "python",
   "pygments_lexer": "ipython3",
   "version": "3.7.12"
  },
  "toc": {
   "base_numbering": 1,
   "nav_menu": {},
   "number_sections": true,
   "sideBar": true,
   "skip_h1_title": false,
   "title_cell": "Table of Contents",
   "title_sidebar": "Contents",
   "toc_cell": false,
   "toc_position": {},
   "toc_section_display": true,
   "toc_window_display": false
  }
 },
 "nbformat": 4,
 "nbformat_minor": 5
}
