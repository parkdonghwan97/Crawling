{
 "cells": [
  {
   "cell_type": "markdown",
   "id": "99344c31",
   "metadata": {},
   "source": [
    "# 빠른 결과를 위한 페이지를 적게 조정 하였음. 작업시 페이지 조정할것."
   ]
  },
  {
   "cell_type": "markdown",
   "id": "345c4e29",
   "metadata": {},
   "source": [
    "# TOP NFT 토큰 (ERC-721) 데이터 수집 \n",
    "- https://etherscan.io/tokens-nft"
   ]
  },
  {
   "cell_type": "code",
   "execution_count": 4,
   "id": "4ea016d5",
   "metadata": {
    "ExecuteTime": {
     "end_time": "2022-04-03T07:36:57.027362Z",
     "start_time": "2022-04-03T07:36:57.004330Z"
    }
   },
   "outputs": [],
   "source": [
    "def make_token721():  # 중복 값은 제거해줌 \n",
    "    tokens = [] \n",
    "    token_contract = [] \n",
    "    transfer_1D = []\n",
    "    transfer_3D = []\n",
    "    import time\n",
    "    import datetime\n",
    "    import requests\n",
    "    from bs4 import BeautifulSoup\n",
    "    import pandas as pd\n",
    "    headers = {'User-Agent': 'Mozilla/5.0 (Windows NT 10.0; Win64; x64) AppleWebKit/537.36 (KHTML, like Gecko) Chrome/95.0.4638.69 Safari/537.36 Edg/95.0.1020.53'}\n",
    "\n",
    "\n",
    "    cnt = 0 \n",
    "    for i in range(1, 2):#  1p ~ 890 p  중에    5000개의 데이터만 가지고 왔음 \n",
    "        url = 'https://etherscan.io/tokens-nft?p='+str(i)\n",
    "        res = requests.get(url, headers=headers)\n",
    "        # soup =  BeautifulSoup(res.text,'lxml')\n",
    "        soup = BeautifulSoup(res.text, 'html.parser')\n",
    "\n",
    "        for j in range(0,50):    \n",
    "            print(soup.select('.text-primary')[j].get_text()  )\n",
    "            tokens.append(     soup.select('.text-primary')[j].get_text()   )\n",
    "            time.sleep(1)\n",
    "            try :print(soup.select('.text-primary')[j]['title']); token_contract.append(   soup.select('.text-primary')[j]['title'] );                time.sleep(2) \n",
    "            except:token_contract.append(soup.select('.text-primary')[j].get_text() )\n",
    "                                 \n",
    "            transfer_1D .append(soup.select('tbody >tr')[j].select('td')[2].get_text() )\n",
    "            transfer_3D .append(soup.select('tbody >tr')[j].select('td')[3].get_text() )\n",
    "            cnt += 1\n",
    "            print(cnt)\n",
    "\n",
    "        time.sleep(2)\n",
    "#     tmp_dict = {  name : value for name, value in zip(tokens,token_contract)        }\n",
    "\n",
    "    \n",
    "    namelist = ['tokens','tokens_contract','Transfers (24H)','Transfers (3D)' ]\n",
    "    token721 = pd.DataFrame(data= [tokens,token_contract, transfer_1D,  transfer_3D]).T\n",
    "    token721.columns = namelist\n",
    "    \n",
    "    # csv 이름 설정 (날짜 형식으로 )\n",
    "    now = datetime.datetime.now()\n",
    "    now = now.strftime('%Y_%m_%d_%H_%M_%S')\n",
    "    csvname = 'data/token721/token721_' + now + '.csv'\n",
    "#     token721.to_csv('data/token721_0221.csv')\n",
    "    token721.to_csv(csvname)\n",
    "    \n",
    "    return print('함수 종료')\n"
   ]
  },
  {
   "cell_type": "code",
   "execution_count": null,
   "id": "361e939b",
   "metadata": {
    "ExecuteTime": {
     "start_time": "2022-04-03T07:36:57.842Z"
    },
    "scrolled": true
   },
   "outputs": [
    {
     "name": "stdout",
     "output_type": "stream",
     "text": [
      "fRiENDSiES\n",
      "0xe5af63234f93afd72a8b9114803e33f6d9766956\n",
      "1\n",
      "MadMouseCircus\n",
      "0x74d9d90a7fc261fbe92ed47b606b6e0e00d75e70\n",
      "2\n",
      "APPLE\n",
      "0x7B9Aa3A8a4661f126b61A632a25e352bdbD19cdD\n",
      "3\n",
      "Wasteland\n",
      "0xd1Bb5AFc41bf57a04E5729f7bf9276E8f300B417\n",
      "4\n",
      "Arcade Land\n",
      "0x4a8C9D751EEAbc5521A68FB080DD7E72E46462aF\n",
      "5\n",
      "Demonized Azuki\n",
      "0xad4d85257c815a4b2c7088a664e958b035b24323\n",
      "6\n",
      "Rolex\n",
      "0x52b416E284303B223Cda59Ccb3D6fE0e422Ceb3B\n",
      "7\n",
      "Mutant Shiba Club\n",
      "0xca95777971c7c438eecbd8bfc23249fbee99e716\n",
      "8\n",
      "Ethereum Name Service (ENS)\n",
      "0x57f1887a8bf19b14fc0df6fd9b2acc9af147ea85\n",
      "9\n",
      "Louis Vuitton\n",
      "0x35C5a191593271333147ed238894F6DC88D97Da5\n",
      "10\n",
      "Garbage Friends\n",
      "0x162545d5442a620A73877951e97645c0905b6045\n",
      "11\n",
      "Toodles\n",
      "0x847e696ac0a0dff058cc34b04725fc3d2ed686cb\n",
      "12\n",
      "Doodzuki\n",
      "0xf5047a87fb67c68b043760dc710670e12fc20a00\n",
      "13\n",
      "Kiwami\n",
      "0x701A038aF4Bd0fc9b69A829DdcB2f61185a49568\n",
      "14\n",
      "VictoriasSecret\n",
      "0x68aABCECCcAefBA1DFB76949F1140767B9AAa803\n",
      "15\n",
      "Murakami flowers\n",
      "0xBD727E8Ed5E684029AFa35e308C56588b95DA5e1\n",
      "16\n",
      "Akuma\n",
      "0xFA7E3F898c80E31A3aedeAe8b0C713a3F9666264\n",
      "17\n",
      "Louis Vuitton Ape\n",
      "0x456764666DA6B2d27F0F5967202f0c4C5CE542Ab\n",
      "18\n",
      "BAYC Otherside Land\n",
      "0xb2EC38aE446458592d2ed030cA34141Ce2943E77\n",
      "19\n",
      "Clay Boys\n",
      "0xC357E8B286d0a5Ce8fF708eC2720B8d24D3cf160\n",
      "20\n",
      "OtherMonkeV5\n",
      "0x9a1e04e2e744e1734e6eb03060a68b1df2f2e360\n",
      "21\n",
      "Fighter\n",
      "0x87E738a3d5E5345d6212D8982205A564289e6324\n",
      "22\n",
      "Possessed\n",
      "0xfb81cd2f66f772436260f73ff547a06a6c2d8a17\n",
      "23\n",
      "Zuki Ape Yacht Club\n",
      "0x04459ea2da55b963ef6d3e1b0ca059198374fefe\n",
      "24\n",
      "BAYC Otherside Land\n"
     ]
    }
   ],
   "source": [
    "make_token721()"
   ]
  }
 ],
 "metadata": {
  "kernelspec": {
   "display_name": "Python 3 (ipykernel)",
   "language": "python",
   "name": "python3"
  },
  "language_info": {
   "codemirror_mode": {
    "name": "ipython",
    "version": 3
   },
   "file_extension": ".py",
   "mimetype": "text/x-python",
   "name": "python",
   "nbconvert_exporter": "python",
   "pygments_lexer": "ipython3",
   "version": "3.8.8"
  },
  "toc": {
   "base_numbering": 1,
   "nav_menu": {},
   "number_sections": true,
   "sideBar": true,
   "skip_h1_title": false,
   "title_cell": "Table of Contents",
   "title_sidebar": "Contents",
   "toc_cell": false,
   "toc_position": {},
   "toc_section_display": true,
   "toc_window_display": false
  }
 },
 "nbformat": 4,
 "nbformat_minor": 5
}
