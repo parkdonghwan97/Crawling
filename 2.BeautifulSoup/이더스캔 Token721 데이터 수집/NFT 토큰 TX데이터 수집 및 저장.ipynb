{
 "cells": [
  {
   "cell_type": "markdown",
   "id": "0c647953",
   "metadata": {},
   "source": [
    "# 빠른 결과를 위한 페이지를 적게 조정 하였음. 작업시 페이지 조정할것."
   ]
  },
  {
   "cell_type": "markdown",
   "id": "4d6ffea8",
   "metadata": {},
   "source": [
    "# NFT 토큰 (ERC-721)  거래 데이터 수집 및 저장 함수\n",
    "- https://etherscan.io/tokentxns-nft"
   ]
  },
  {
   "cell_type": "code",
   "execution_count": 1,
   "id": "433dc597",
   "metadata": {
    "ExecuteTime": {
     "end_time": "2022-04-03T07:45:12.073473Z",
     "start_time": "2022-04-03T07:45:12.045455Z"
    }
   },
   "outputs": [],
   "source": [
    "def make_token721txns():  \n",
    "    import time\n",
    "    import datetime\n",
    "    import requests\n",
    "    from bs4 import BeautifulSoup\n",
    "    import pandas as pd\n",
    "    import re \n",
    "    \n",
    "    Txn_Hash = []\n",
    "    DateTime = []\n",
    "    From = [] \n",
    "    To = [] \n",
    "    TokenID = []\n",
    "    Token=[]\n",
    "    cnt = 0 \n",
    "    namelist = ['Txn_Hash','DateTime','From','To','TokenID','Token']\n",
    "    headers = {'User-Agent': 'Mozilla/5.0 (Windows NT 10.0; Win64; x64) AppleWebKit/537.36 (KHTML, like Gecko) Chrome/95.0.4638.69 Safari/537.36 Edg/95.0.1020.53'}\n",
    "    \n",
    "#     for idx in range(1,201): # 1~ 200 p\n",
    "    # 페이지만 수정 \n",
    "    for idx in range(1,2):\n",
    "        url = 'https://etherscan.io/tokentxns-nft?p='+str(idx)\n",
    "        res = requests.get(url, headers=headers)\n",
    "        soup = BeautifulSoup(res.text, 'html.parser')    \n",
    "        for i in range(0,50):          \n",
    "            Txn_Hash.append( soup.select('tbody>tr')[i].select('td')[1].get_text() )\n",
    "            time.sleep(1)\n",
    "            # Date Time (UTC)        \n",
    "            DateTime.append(soup.select('tbody>tr')[i].select('td')[2].get_text() )\n",
    "            time.sleep(1)\n",
    "            # From\n",
    "#     soup.select('tbody >tr')[i].select('td')[4].get_text() \n",
    "#     soup.select('tbody >tr')[i].select('td')[4].select('a')[0]['href'][9:]\n",
    "            a = soup.select('tbody >tr')[i].select('td')[4].select('a')[0]['href'][9:]\n",
    "            a = re.sub('#tokentxnsErc721', '' ,  str(a) ) \n",
    "            From.append(a)\n",
    "            time.sleep(1)\n",
    "    \n",
    "            # To \n",
    "#     soup.select('tbody >tr')[i].select('td')[6].get_text()\n",
    "            b = soup.select('tbody >tr')[i].select('td')[6].select('a')[0]['href'][9:]\n",
    "            b = re.sub('#tokentxnsErc721', '' ,  str(b) )\n",
    "            To.append(b)\n",
    "            time.sleep(1)\n",
    "            #tokenId\n",
    "            TokenID.append(soup.select('tbody >tr')[i].select('td')[7].get_text()   )\n",
    "            time.sleep(1)\n",
    "            #token\n",
    "# print(soup.select('tbody >tr')[1].select('td')[8].select('span')[0]['title'])\n",
    "    \n",
    "            try:   x = soup.select('tbody >tr')[i].select('td')[8].select('span[title]')[0]['title']\n",
    "            except:  x =  soup.select('tbody >tr')[i].select('td')[8].get_text()\n",
    "            Token.append(x)\n",
    "            time.sleep(2)    \n",
    "            \n",
    "    token721txns = pd.DataFrame(data= [Txn_Hash, DateTime, From, To, TokenID, Token]).T\n",
    "    token721txns.columns = namelist\n",
    "    \n",
    "     # csv 이름 설정 \n",
    "    now = datetime.datetime.now()\n",
    "    now = now.strftime('%Y_%m_%d_%H_%M_%S')\n",
    "    csvname = 'data/token721txns/token721txns_' + now + '.csv'\n",
    "\n",
    "    token721txns.to_csv(csvname)\n",
    "    \n",
    "    return print('함수 종료')\n",
    "# null값이 있는 경우 => 이 주소는 어떤 사용자도 소유하지 않으며 종종 토큰 소각 및 발행/제네시스 이벤트와 연결되며 일반 null 주소로 사용됩니다.    "
   ]
  },
  {
   "cell_type": "code",
   "execution_count": null,
   "id": "5dfb10c7",
   "metadata": {
    "ExecuteTime": {
     "start_time": "2022-04-03T07:45:14.408Z"
    }
   },
   "outputs": [],
   "source": [
    "make_token721txns()"
   ]
  },
  {
   "cell_type": "markdown",
   "id": "f9361d29",
   "metadata": {},
   "source": [
    "# 오류\n",
    "- 토큰 네임이 없는경우 \n",
    "- 툴팁에 주소가 있는경우\n",
    "- 토큰 네임이 길어서 짤린경우 \n",
    "\n",
    "각각 모두 예외 처리 두었음."
   ]
  }
 ],
 "metadata": {
  "kernelspec": {
   "display_name": "Python 3 (ipykernel)",
   "language": "python",
   "name": "python3"
  },
  "language_info": {
   "codemirror_mode": {
    "name": "ipython",
    "version": 3
   },
   "file_extension": ".py",
   "mimetype": "text/x-python",
   "name": "python",
   "nbconvert_exporter": "python",
   "pygments_lexer": "ipython3",
   "version": "3.8.8"
  },
  "toc": {
   "base_numbering": 1,
   "nav_menu": {},
   "number_sections": true,
   "sideBar": true,
   "skip_h1_title": false,
   "title_cell": "Table of Contents",
   "title_sidebar": "Contents",
   "toc_cell": false,
   "toc_position": {},
   "toc_section_display": true,
   "toc_window_display": false
  }
 },
 "nbformat": 4,
 "nbformat_minor": 5
}
